{
 "cells": [
  {
   "cell_type": "markdown",
   "id": "6c597d77-caea-4dd3-b01a-5db6d840c19b",
   "metadata": {},
   "source": [
    "### OLA_service\n",
    "#### EDA_Project"
   ]
  },
  {
   "cell_type": "markdown",
   "id": "52ea331f-5ee7-428e-af9d-8bfa2ebac695",
   "metadata": {},
   "source": [
    "### Starts with importing useful libraries"
   ]
  },
  {
   "cell_type": "code",
   "execution_count": 1,
   "id": "3761fc91-e09a-4388-92ee-e395989679ad",
   "metadata": {},
   "outputs": [],
   "source": [
    "import numpy as np\n",
    "import pandas as pd\n",
    "import matplotlib.pyplot as plt\n",
    "import seaborn as sns"
   ]
  },
  {
   "cell_type": "markdown",
   "id": "3001b252-5d6b-4f2f-bf7a-93184ea8f1ef",
   "metadata": {},
   "source": [
    "##### Importing my dataset 'ola'"
   ]
  },
  {
   "cell_type": "code",
   "execution_count": 47,
   "id": "cac73932-3140-4628-acf6-d8eab59578ce",
   "metadata": {},
   "outputs": [],
   "source": [
    "ola= pd.read_csv(r\"C:\\Users\\taigk\\OneDrive\\Documents\\Desktop\\new_journey_786.py\\ola.csv\") #importing my dataset"
   ]
  },
  {
   "cell_type": "markdown",
   "id": "ef644209-1e2e-44fd-a4c4-64c915adb209",
   "metadata": {},
   "source": [
    "##### Let's start with the first few steps"
   ]
  },
  {
   "cell_type": "code",
   "execution_count": 4,
   "id": "55257d5d-f5b2-4ef1-a1b7-45b6d51eafda",
   "metadata": {},
   "outputs": [
    {
     "data": {
      "text/html": [
       "<div>\n",
       "<style scoped>\n",
       "    .dataframe tbody tr th:only-of-type {\n",
       "        vertical-align: middle;\n",
       "    }\n",
       "\n",
       "    .dataframe tbody tr th {\n",
       "        vertical-align: top;\n",
       "    }\n",
       "\n",
       "    .dataframe thead th {\n",
       "        text-align: right;\n",
       "    }\n",
       "</style>\n",
       "<table border=\"1\" class=\"dataframe\">\n",
       "  <thead>\n",
       "    <tr style=\"text-align: right;\">\n",
       "      <th></th>\n",
       "      <th>datetime</th>\n",
       "      <th>season</th>\n",
       "      <th>weather</th>\n",
       "      <th>temp</th>\n",
       "      <th>humidity</th>\n",
       "      <th>windspeed</th>\n",
       "      <th>casual</th>\n",
       "      <th>registered</th>\n",
       "      <th>count</th>\n",
       "    </tr>\n",
       "  </thead>\n",
       "  <tbody>\n",
       "    <tr>\n",
       "      <th>0</th>\n",
       "      <td>2011-01-01 00:00:00</td>\n",
       "      <td>3</td>\n",
       "      <td>2</td>\n",
       "      <td>6.66</td>\n",
       "      <td>76.62</td>\n",
       "      <td>9.57</td>\n",
       "      <td>5</td>\n",
       "      <td>128</td>\n",
       "      <td>133</td>\n",
       "    </tr>\n",
       "    <tr>\n",
       "      <th>1</th>\n",
       "      <td>2011-01-01 01:00:00</td>\n",
       "      <td>4</td>\n",
       "      <td>3</td>\n",
       "      <td>13.54</td>\n",
       "      <td>55.91</td>\n",
       "      <td>4.01</td>\n",
       "      <td>36</td>\n",
       "      <td>184</td>\n",
       "      <td>220</td>\n",
       "    </tr>\n",
       "    <tr>\n",
       "      <th>2</th>\n",
       "      <td>2011-01-01 02:00:00</td>\n",
       "      <td>1</td>\n",
       "      <td>3</td>\n",
       "      <td>29.58</td>\n",
       "      <td>20.97</td>\n",
       "      <td>33.61</td>\n",
       "      <td>34</td>\n",
       "      <td>97</td>\n",
       "      <td>131</td>\n",
       "    </tr>\n",
       "    <tr>\n",
       "      <th>3</th>\n",
       "      <td>2011-01-01 03:00:00</td>\n",
       "      <td>3</td>\n",
       "      <td>1</td>\n",
       "      <td>7.40</td>\n",
       "      <td>61.64</td>\n",
       "      <td>15.85</td>\n",
       "      <td>6</td>\n",
       "      <td>47</td>\n",
       "      <td>53</td>\n",
       "    </tr>\n",
       "    <tr>\n",
       "      <th>4</th>\n",
       "      <td>2011-01-01 04:00:00</td>\n",
       "      <td>3</td>\n",
       "      <td>4</td>\n",
       "      <td>30.66</td>\n",
       "      <td>98.71</td>\n",
       "      <td>11.47</td>\n",
       "      <td>14</td>\n",
       "      <td>199</td>\n",
       "      <td>213</td>\n",
       "    </tr>\n",
       "    <tr>\n",
       "      <th>...</th>\n",
       "      <td>...</td>\n",
       "      <td>...</td>\n",
       "      <td>...</td>\n",
       "      <td>...</td>\n",
       "      <td>...</td>\n",
       "      <td>...</td>\n",
       "      <td>...</td>\n",
       "      <td>...</td>\n",
       "      <td>...</td>\n",
       "    </tr>\n",
       "    <tr>\n",
       "      <th>10881</th>\n",
       "      <td>2012-03-29 09:00:00</td>\n",
       "      <td>4</td>\n",
       "      <td>4</td>\n",
       "      <td>28.24</td>\n",
       "      <td>67.88</td>\n",
       "      <td>47.74</td>\n",
       "      <td>48</td>\n",
       "      <td>28</td>\n",
       "      <td>76</td>\n",
       "    </tr>\n",
       "    <tr>\n",
       "      <th>10882</th>\n",
       "      <td>2012-03-29 10:00:00</td>\n",
       "      <td>3</td>\n",
       "      <td>4</td>\n",
       "      <td>17.13</td>\n",
       "      <td>22.36</td>\n",
       "      <td>15.27</td>\n",
       "      <td>4</td>\n",
       "      <td>1</td>\n",
       "      <td>5</td>\n",
       "    </tr>\n",
       "    <tr>\n",
       "      <th>10883</th>\n",
       "      <td>2012-03-29 11:00:00</td>\n",
       "      <td>3</td>\n",
       "      <td>3</td>\n",
       "      <td>19.83</td>\n",
       "      <td>99.17</td>\n",
       "      <td>30.35</td>\n",
       "      <td>38</td>\n",
       "      <td>10</td>\n",
       "      <td>48</td>\n",
       "    </tr>\n",
       "    <tr>\n",
       "      <th>10884</th>\n",
       "      <td>2012-03-29 12:00:00</td>\n",
       "      <td>2</td>\n",
       "      <td>4</td>\n",
       "      <td>15.70</td>\n",
       "      <td>77.30</td>\n",
       "      <td>40.16</td>\n",
       "      <td>36</td>\n",
       "      <td>15</td>\n",
       "      <td>51</td>\n",
       "    </tr>\n",
       "    <tr>\n",
       "      <th>10885</th>\n",
       "      <td>2012-03-29 13:00:00</td>\n",
       "      <td>2</td>\n",
       "      <td>3</td>\n",
       "      <td>34.57</td>\n",
       "      <td>54.03</td>\n",
       "      <td>6.64</td>\n",
       "      <td>39</td>\n",
       "      <td>178</td>\n",
       "      <td>217</td>\n",
       "    </tr>\n",
       "  </tbody>\n",
       "</table>\n",
       "<p>10886 rows × 9 columns</p>\n",
       "</div>"
      ],
      "text/plain": [
       "                  datetime  season  weather   temp  humidity  windspeed  \\\n",
       "0      2011-01-01 00:00:00       3        2   6.66     76.62       9.57   \n",
       "1      2011-01-01 01:00:00       4        3  13.54     55.91       4.01   \n",
       "2      2011-01-01 02:00:00       1        3  29.58     20.97      33.61   \n",
       "3      2011-01-01 03:00:00       3        1   7.40     61.64      15.85   \n",
       "4      2011-01-01 04:00:00       3        4  30.66     98.71      11.47   \n",
       "...                    ...     ...      ...    ...       ...        ...   \n",
       "10881  2012-03-29 09:00:00       4        4  28.24     67.88      47.74   \n",
       "10882  2012-03-29 10:00:00       3        4  17.13     22.36      15.27   \n",
       "10883  2012-03-29 11:00:00       3        3  19.83     99.17      30.35   \n",
       "10884  2012-03-29 12:00:00       2        4  15.70     77.30      40.16   \n",
       "10885  2012-03-29 13:00:00       2        3  34.57     54.03       6.64   \n",
       "\n",
       "       casual  registered  count  \n",
       "0           5         128    133  \n",
       "1          36         184    220  \n",
       "2          34          97    131  \n",
       "3           6          47     53  \n",
       "4          14         199    213  \n",
       "...       ...         ...    ...  \n",
       "10881      48          28     76  \n",
       "10882       4           1      5  \n",
       "10883      38          10     48  \n",
       "10884      36          15     51  \n",
       "10885      39         178    217  \n",
       "\n",
       "[10886 rows x 9 columns]"
      ]
     },
     "execution_count": 4,
     "metadata": {},
     "output_type": "execute_result"
    }
   ],
   "source": [
    "ola    #first view of my data set"
   ]
  },
  {
   "cell_type": "code",
   "execution_count": 5,
   "id": "63791005-8ebc-427c-b6fa-d29c92437cdc",
   "metadata": {},
   "outputs": [
    {
     "data": {
      "text/plain": [
       "(10886, 9)"
      ]
     },
     "execution_count": 5,
     "metadata": {},
     "output_type": "execute_result"
    }
   ],
   "source": [
    "ola.shape         #to get to know about the dataset row and columns "
   ]
  },
  {
   "cell_type": "code",
   "execution_count": 6,
   "id": "ebb33259-0e35-4dd1-bb61-3b69c031efdc",
   "metadata": {},
   "outputs": [
    {
     "data": {
      "text/plain": [
       "Index(['datetime', 'season', 'weather', 'temp', 'humidity', 'windspeed',\n",
       "       'casual', 'registered', 'count'],\n",
       "      dtype='object')"
      ]
     },
     "execution_count": 6,
     "metadata": {},
     "output_type": "execute_result"
    }
   ],
   "source": [
    "ola.columns            #to get to know about my dataset columns_name"
   ]
  },
  {
   "cell_type": "code",
   "execution_count": 7,
   "id": "bc7f2d0d-822b-4845-b343-7c119964bf96",
   "metadata": {},
   "outputs": [
    {
     "data": {
      "text/html": [
       "<div>\n",
       "<style scoped>\n",
       "    .dataframe tbody tr th:only-of-type {\n",
       "        vertical-align: middle;\n",
       "    }\n",
       "\n",
       "    .dataframe tbody tr th {\n",
       "        vertical-align: top;\n",
       "    }\n",
       "\n",
       "    .dataframe thead th {\n",
       "        text-align: right;\n",
       "    }\n",
       "</style>\n",
       "<table border=\"1\" class=\"dataframe\">\n",
       "  <thead>\n",
       "    <tr style=\"text-align: right;\">\n",
       "      <th></th>\n",
       "      <th>datetime</th>\n",
       "      <th>season</th>\n",
       "      <th>weather</th>\n",
       "      <th>temp</th>\n",
       "      <th>humidity</th>\n",
       "      <th>windspeed</th>\n",
       "      <th>casual</th>\n",
       "      <th>registered</th>\n",
       "      <th>count</th>\n",
       "    </tr>\n",
       "  </thead>\n",
       "  <tbody>\n",
       "    <tr>\n",
       "      <th>0</th>\n",
       "      <td>2011-01-01 00:00:00</td>\n",
       "      <td>3</td>\n",
       "      <td>2</td>\n",
       "      <td>6.66</td>\n",
       "      <td>76.62</td>\n",
       "      <td>9.57</td>\n",
       "      <td>5</td>\n",
       "      <td>128</td>\n",
       "      <td>133</td>\n",
       "    </tr>\n",
       "    <tr>\n",
       "      <th>1</th>\n",
       "      <td>2011-01-01 01:00:00</td>\n",
       "      <td>4</td>\n",
       "      <td>3</td>\n",
       "      <td>13.54</td>\n",
       "      <td>55.91</td>\n",
       "      <td>4.01</td>\n",
       "      <td>36</td>\n",
       "      <td>184</td>\n",
       "      <td>220</td>\n",
       "    </tr>\n",
       "    <tr>\n",
       "      <th>2</th>\n",
       "      <td>2011-01-01 02:00:00</td>\n",
       "      <td>1</td>\n",
       "      <td>3</td>\n",
       "      <td>29.58</td>\n",
       "      <td>20.97</td>\n",
       "      <td>33.61</td>\n",
       "      <td>34</td>\n",
       "      <td>97</td>\n",
       "      <td>131</td>\n",
       "    </tr>\n",
       "    <tr>\n",
       "      <th>3</th>\n",
       "      <td>2011-01-01 03:00:00</td>\n",
       "      <td>3</td>\n",
       "      <td>1</td>\n",
       "      <td>7.40</td>\n",
       "      <td>61.64</td>\n",
       "      <td>15.85</td>\n",
       "      <td>6</td>\n",
       "      <td>47</td>\n",
       "      <td>53</td>\n",
       "    </tr>\n",
       "    <tr>\n",
       "      <th>4</th>\n",
       "      <td>2011-01-01 04:00:00</td>\n",
       "      <td>3</td>\n",
       "      <td>4</td>\n",
       "      <td>30.66</td>\n",
       "      <td>98.71</td>\n",
       "      <td>11.47</td>\n",
       "      <td>14</td>\n",
       "      <td>199</td>\n",
       "      <td>213</td>\n",
       "    </tr>\n",
       "  </tbody>\n",
       "</table>\n",
       "</div>"
      ],
      "text/plain": [
       "              datetime  season  weather   temp  humidity  windspeed  casual  \\\n",
       "0  2011-01-01 00:00:00       3        2   6.66     76.62       9.57       5   \n",
       "1  2011-01-01 01:00:00       4        3  13.54     55.91       4.01      36   \n",
       "2  2011-01-01 02:00:00       1        3  29.58     20.97      33.61      34   \n",
       "3  2011-01-01 03:00:00       3        1   7.40     61.64      15.85       6   \n",
       "4  2011-01-01 04:00:00       3        4  30.66     98.71      11.47      14   \n",
       "\n",
       "   registered  count  \n",
       "0         128    133  \n",
       "1         184    220  \n",
       "2          97    131  \n",
       "3          47     53  \n",
       "4         199    213  "
      ]
     },
     "execution_count": 7,
     "metadata": {},
     "output_type": "execute_result"
    }
   ],
   "source": [
    "ola.head()              #for the very first 5 row"
   ]
  },
  {
   "cell_type": "code",
   "execution_count": 8,
   "id": "7301a6e6-4922-476a-8a96-d56fa22b6357",
   "metadata": {},
   "outputs": [
    {
     "data": {
      "text/html": [
       "<div>\n",
       "<style scoped>\n",
       "    .dataframe tbody tr th:only-of-type {\n",
       "        vertical-align: middle;\n",
       "    }\n",
       "\n",
       "    .dataframe tbody tr th {\n",
       "        vertical-align: top;\n",
       "    }\n",
       "\n",
       "    .dataframe thead th {\n",
       "        text-align: right;\n",
       "    }\n",
       "</style>\n",
       "<table border=\"1\" class=\"dataframe\">\n",
       "  <thead>\n",
       "    <tr style=\"text-align: right;\">\n",
       "      <th></th>\n",
       "      <th>datetime</th>\n",
       "      <th>season</th>\n",
       "      <th>weather</th>\n",
       "      <th>temp</th>\n",
       "      <th>humidity</th>\n",
       "      <th>windspeed</th>\n",
       "      <th>casual</th>\n",
       "      <th>registered</th>\n",
       "      <th>count</th>\n",
       "    </tr>\n",
       "  </thead>\n",
       "  <tbody>\n",
       "    <tr>\n",
       "      <th>10881</th>\n",
       "      <td>2012-03-29 09:00:00</td>\n",
       "      <td>4</td>\n",
       "      <td>4</td>\n",
       "      <td>28.24</td>\n",
       "      <td>67.88</td>\n",
       "      <td>47.74</td>\n",
       "      <td>48</td>\n",
       "      <td>28</td>\n",
       "      <td>76</td>\n",
       "    </tr>\n",
       "    <tr>\n",
       "      <th>10882</th>\n",
       "      <td>2012-03-29 10:00:00</td>\n",
       "      <td>3</td>\n",
       "      <td>4</td>\n",
       "      <td>17.13</td>\n",
       "      <td>22.36</td>\n",
       "      <td>15.27</td>\n",
       "      <td>4</td>\n",
       "      <td>1</td>\n",
       "      <td>5</td>\n",
       "    </tr>\n",
       "    <tr>\n",
       "      <th>10883</th>\n",
       "      <td>2012-03-29 11:00:00</td>\n",
       "      <td>3</td>\n",
       "      <td>3</td>\n",
       "      <td>19.83</td>\n",
       "      <td>99.17</td>\n",
       "      <td>30.35</td>\n",
       "      <td>38</td>\n",
       "      <td>10</td>\n",
       "      <td>48</td>\n",
       "    </tr>\n",
       "    <tr>\n",
       "      <th>10884</th>\n",
       "      <td>2012-03-29 12:00:00</td>\n",
       "      <td>2</td>\n",
       "      <td>4</td>\n",
       "      <td>15.70</td>\n",
       "      <td>77.30</td>\n",
       "      <td>40.16</td>\n",
       "      <td>36</td>\n",
       "      <td>15</td>\n",
       "      <td>51</td>\n",
       "    </tr>\n",
       "    <tr>\n",
       "      <th>10885</th>\n",
       "      <td>2012-03-29 13:00:00</td>\n",
       "      <td>2</td>\n",
       "      <td>3</td>\n",
       "      <td>34.57</td>\n",
       "      <td>54.03</td>\n",
       "      <td>6.64</td>\n",
       "      <td>39</td>\n",
       "      <td>178</td>\n",
       "      <td>217</td>\n",
       "    </tr>\n",
       "  </tbody>\n",
       "</table>\n",
       "</div>"
      ],
      "text/plain": [
       "                  datetime  season  weather   temp  humidity  windspeed  \\\n",
       "10881  2012-03-29 09:00:00       4        4  28.24     67.88      47.74   \n",
       "10882  2012-03-29 10:00:00       3        4  17.13     22.36      15.27   \n",
       "10883  2012-03-29 11:00:00       3        3  19.83     99.17      30.35   \n",
       "10884  2012-03-29 12:00:00       2        4  15.70     77.30      40.16   \n",
       "10885  2012-03-29 13:00:00       2        3  34.57     54.03       6.64   \n",
       "\n",
       "       casual  registered  count  \n",
       "10881      48          28     76  \n",
       "10882       4           1      5  \n",
       "10883      38          10     48  \n",
       "10884      36          15     51  \n",
       "10885      39         178    217  "
      ]
     },
     "execution_count": 8,
     "metadata": {},
     "output_type": "execute_result"
    }
   ],
   "source": [
    "ola.tail()                 #for the last 5 row"
   ]
  },
  {
   "cell_type": "code",
   "execution_count": 9,
   "id": "e1719646-ced1-46c7-bcff-b45ef3f9be90",
   "metadata": {},
   "outputs": [
    {
     "name": "stdout",
     "output_type": "stream",
     "text": [
      "<class 'pandas.core.frame.DataFrame'>\n",
      "RangeIndex: 10886 entries, 0 to 10885\n",
      "Data columns (total 9 columns):\n",
      " #   Column      Non-Null Count  Dtype  \n",
      "---  ------      --------------  -----  \n",
      " 0   datetime    10886 non-null  object \n",
      " 1   season      10886 non-null  int64  \n",
      " 2   weather     10886 non-null  int64  \n",
      " 3   temp        10886 non-null  float64\n",
      " 4   humidity    10886 non-null  float64\n",
      " 5   windspeed   10886 non-null  float64\n",
      " 6   casual      10886 non-null  int64  \n",
      " 7   registered  10886 non-null  int64  \n",
      " 8   count       10886 non-null  int64  \n",
      "dtypes: float64(3), int64(5), object(1)\n",
      "memory usage: 765.6+ KB\n"
     ]
    }
   ],
   "source": [
    "ola.info()                  # to get to know about the data types of my dataset"
   ]
  },
  {
   "cell_type": "code",
   "execution_count": 10,
   "id": "2c7a349a-d2da-4ae2-b793-6c3f517c4b2f",
   "metadata": {},
   "outputs": [
    {
     "data": {
      "text/html": [
       "<div>\n",
       "<style scoped>\n",
       "    .dataframe tbody tr th:only-of-type {\n",
       "        vertical-align: middle;\n",
       "    }\n",
       "\n",
       "    .dataframe tbody tr th {\n",
       "        vertical-align: top;\n",
       "    }\n",
       "\n",
       "    .dataframe thead th {\n",
       "        text-align: right;\n",
       "    }\n",
       "</style>\n",
       "<table border=\"1\" class=\"dataframe\">\n",
       "  <thead>\n",
       "    <tr style=\"text-align: right;\">\n",
       "      <th></th>\n",
       "      <th>season</th>\n",
       "      <th>weather</th>\n",
       "      <th>temp</th>\n",
       "      <th>humidity</th>\n",
       "      <th>windspeed</th>\n",
       "      <th>casual</th>\n",
       "      <th>registered</th>\n",
       "      <th>count</th>\n",
       "    </tr>\n",
       "  </thead>\n",
       "  <tbody>\n",
       "    <tr>\n",
       "      <th>count</th>\n",
       "      <td>10886.000000</td>\n",
       "      <td>10886.000000</td>\n",
       "      <td>10886.000000</td>\n",
       "      <td>10886.000000</td>\n",
       "      <td>10886.000000</td>\n",
       "      <td>10886.000000</td>\n",
       "      <td>10886.000000</td>\n",
       "      <td>10886.000000</td>\n",
       "    </tr>\n",
       "    <tr>\n",
       "      <th>mean</th>\n",
       "      <td>2.493937</td>\n",
       "      <td>2.491916</td>\n",
       "      <td>20.137973</td>\n",
       "      <td>59.946072</td>\n",
       "      <td>24.960981</td>\n",
       "      <td>24.517545</td>\n",
       "      <td>99.551442</td>\n",
       "      <td>124.068988</td>\n",
       "    </tr>\n",
       "    <tr>\n",
       "      <th>std</th>\n",
       "      <td>1.120531</td>\n",
       "      <td>1.123139</td>\n",
       "      <td>8.696625</td>\n",
       "      <td>22.987200</td>\n",
       "      <td>14.424684</td>\n",
       "      <td>14.390014</td>\n",
       "      <td>57.541131</td>\n",
       "      <td>59.449265</td>\n",
       "    </tr>\n",
       "    <tr>\n",
       "      <th>min</th>\n",
       "      <td>1.000000</td>\n",
       "      <td>1.000000</td>\n",
       "      <td>5.000000</td>\n",
       "      <td>20.000000</td>\n",
       "      <td>0.000000</td>\n",
       "      <td>0.000000</td>\n",
       "      <td>0.000000</td>\n",
       "      <td>0.000000</td>\n",
       "    </tr>\n",
       "    <tr>\n",
       "      <th>25%</th>\n",
       "      <td>1.000000</td>\n",
       "      <td>1.000000</td>\n",
       "      <td>12.630000</td>\n",
       "      <td>40.040000</td>\n",
       "      <td>12.522500</td>\n",
       "      <td>12.000000</td>\n",
       "      <td>50.000000</td>\n",
       "      <td>74.000000</td>\n",
       "    </tr>\n",
       "    <tr>\n",
       "      <th>50%</th>\n",
       "      <td>2.000000</td>\n",
       "      <td>2.000000</td>\n",
       "      <td>20.190000</td>\n",
       "      <td>59.970000</td>\n",
       "      <td>25.000000</td>\n",
       "      <td>25.000000</td>\n",
       "      <td>100.000000</td>\n",
       "      <td>124.000000</td>\n",
       "    </tr>\n",
       "    <tr>\n",
       "      <th>75%</th>\n",
       "      <td>3.000000</td>\n",
       "      <td>4.000000</td>\n",
       "      <td>27.707500</td>\n",
       "      <td>79.620000</td>\n",
       "      <td>37.427500</td>\n",
       "      <td>37.000000</td>\n",
       "      <td>149.000000</td>\n",
       "      <td>174.000000</td>\n",
       "    </tr>\n",
       "    <tr>\n",
       "      <th>max</th>\n",
       "      <td>4.000000</td>\n",
       "      <td>4.000000</td>\n",
       "      <td>35.000000</td>\n",
       "      <td>99.980000</td>\n",
       "      <td>49.990000</td>\n",
       "      <td>49.000000</td>\n",
       "      <td>199.000000</td>\n",
       "      <td>248.000000</td>\n",
       "    </tr>\n",
       "  </tbody>\n",
       "</table>\n",
       "</div>"
      ],
      "text/plain": [
       "             season       weather          temp      humidity     windspeed  \\\n",
       "count  10886.000000  10886.000000  10886.000000  10886.000000  10886.000000   \n",
       "mean       2.493937      2.491916     20.137973     59.946072     24.960981   \n",
       "std        1.120531      1.123139      8.696625     22.987200     14.424684   \n",
       "min        1.000000      1.000000      5.000000     20.000000      0.000000   \n",
       "25%        1.000000      1.000000     12.630000     40.040000     12.522500   \n",
       "50%        2.000000      2.000000     20.190000     59.970000     25.000000   \n",
       "75%        3.000000      4.000000     27.707500     79.620000     37.427500   \n",
       "max        4.000000      4.000000     35.000000     99.980000     49.990000   \n",
       "\n",
       "             casual    registered         count  \n",
       "count  10886.000000  10886.000000  10886.000000  \n",
       "mean      24.517545     99.551442    124.068988  \n",
       "std       14.390014     57.541131     59.449265  \n",
       "min        0.000000      0.000000      0.000000  \n",
       "25%       12.000000     50.000000     74.000000  \n",
       "50%       25.000000    100.000000    124.000000  \n",
       "75%       37.000000    149.000000    174.000000  \n",
       "max       49.000000    199.000000    248.000000  "
      ]
     },
     "execution_count": 10,
     "metadata": {},
     "output_type": "execute_result"
    }
   ],
   "source": [
    "ola.describe()            # to get done all the arithmetic functions"
   ]
  },
  {
   "cell_type": "markdown",
   "id": "773034b7-7109-4768-951e-79b8334068af",
   "metadata": {},
   "source": [
    "##### start's dealing with the dataset"
   ]
  },
  {
   "cell_type": "code",
   "execution_count": 11,
   "id": "2259bd34-cde6-40eb-b919-f08c1ed30647",
   "metadata": {},
   "outputs": [
    {
     "data": {
      "text/plain": [
       "datetime      0\n",
       "season        0\n",
       "weather       0\n",
       "temp          0\n",
       "humidity      0\n",
       "windspeed     0\n",
       "casual        0\n",
       "registered    0\n",
       "count         0\n",
       "dtype: int64"
      ]
     },
     "execution_count": 11,
     "metadata": {},
     "output_type": "execute_result"
    }
   ],
   "source": [
    "ola.isnull().sum()              # to get to know about null values"
   ]
  },
  {
   "cell_type": "code",
   "execution_count": 12,
   "id": "cd96417a-066c-41cd-bc9b-bc89681ce19e",
   "metadata": {},
   "outputs": [
    {
     "data": {
      "text/plain": [
       "0        False\n",
       "1        False\n",
       "2        False\n",
       "3        False\n",
       "4        False\n",
       "         ...  \n",
       "10881    False\n",
       "10882    False\n",
       "10883    False\n",
       "10884    False\n",
       "10885    False\n",
       "Length: 10886, dtype: bool"
      ]
     },
     "execution_count": 12,
     "metadata": {},
     "output_type": "execute_result"
    }
   ],
   "source": [
    "ola.duplicated()               # to get to know about the dataset null values"
   ]
  },
  {
   "cell_type": "markdown",
   "id": "9a3da2d2-af8f-4997-9257-eed80309021f",
   "metadata": {},
   "source": [
    "#### Bivariate analysis"
   ]
  },
  {
   "cell_type": "code",
   "execution_count": 16,
   "id": "0b62da44-f7ab-49ae-8280-f615acfae482",
   "metadata": {},
   "outputs": [],
   "source": [
    "ola_se= ola.groupby('season')['datetime'].count().reset_index()    # grouping with the season"
   ]
  },
  {
   "cell_type": "code",
   "execution_count": 19,
   "id": "af1c9bee-481d-4298-a33a-cf471d967026",
   "metadata": {},
   "outputs": [
    {
     "data": {
      "image/png": "[encoded data removed]",
      "text/plain": [
       "<Figure size 400x400 with 1 Axes>"
      ]
     },
     "metadata": {},
     "output_type": "display_data"
    }
   ],
   "source": [
    "# this cicle will represent which season is favorable for marketing\n",
    "plt.figure(figsize=(4,4))\n",
    "values=ola_se['datetime'].values\n",
    "labels= ola_se['season']\n",
    "plt.pie(values ,  labels=labels,   autopct='%1.1f%%' )\n",
    "plt.title('Marketing_season', c='r')\n",
    "plt.tight_layout()\n",
    "plt.show()"
   ]
  },
  {
   "cell_type": "code",
   "execution_count": 22,
   "id": "bc0f1464-31cf-451e-be45-a6bafaf95075",
   "metadata": {},
   "outputs": [],
   "source": [
    "ola_we = ola.groupby('weather')['datetime'].count().reset_index()  # grouping with the weather"
   ]
  },
  {
   "cell_type": "code",
   "execution_count": 23,
   "id": "1ca500b5-507e-4f8f-94bc-3ac1aa318d27",
   "metadata": {},
   "outputs": [
    {
     "data": {
      "image/png": "[encoded data removed]",
      "text/plain": [
       "<Figure size 400x400 with 1 Axes>"
      ]
     },
     "metadata": {},
     "output_type": "display_data"
    }
   ],
   "source": [
    "# this cicle will represent which weather is favorable for marketing\n",
    "plt.figure(figsize=(4,4))\n",
    "values=ola_we['datetime'].values\n",
    "labels= ola_we['weather']\n",
    "plt.pie(values ,  labels=labels,   autopct='%1.1f%%' )\n",
    "plt.title('Marketing_weather', c='r')\n",
    "plt.tight_layout()\n",
    "plt.show()"
   ]
  },
  {
   "cell_type": "code",
   "execution_count": 29,
   "id": "75ae40ff-4aac-40f1-9e98-9752daa07f47",
   "metadata": {},
   "outputs": [],
   "source": [
    " ola_ca= ola.groupby('casual')['datetime'].count().reset_index()       #grouping with the 'Casual_irde'"
   ]
  },
  {
   "cell_type": "code",
   "execution_count": 34,
   "id": "360d76bd-177a-4040-97c3-5fa269f7f2d5",
   "metadata": {},
   "outputs": [
    {
     "data": {
      "image/png": "[encoded data removed]",
      "text/plain": [
       "<Figure size 400x500 with 1 Axes>"
      ]
     },
     "metadata": {},
     "output_type": "display_data"
    }
   ],
   "source": [
    "#this graph will stand for casual ride\n",
    "plt.figure(figsize=(4,5))\n",
    "plt.barh(ola_ca['casual'], ola_ca['datetime'], color= 'olive')\n",
    "plt.title('CASUAL_RIDE!!' ,c='blue')\n",
    "plt.xlabel('number_of_ride', c='b')\n",
    "plt.ylabel('number_of_times' , c='b')\n",
    "plt.tight_layout()\n",
    "plt.show()"
   ]
  },
  {
   "cell_type": "code",
   "execution_count": 38,
   "id": "8719fb0d-4b2b-463f-a7e4-22c5a62400e5",
   "metadata": {},
   "outputs": [],
   "source": [
    "ola_re= ola.groupby('registered')['datetime'].count().reset_index()  #grouping with the 'registered'"
   ]
  },
  {
   "cell_type": "code",
   "execution_count": 46,
   "id": "11ebaae8-0004-4eaa-92d1-930d2da4762e",
   "metadata": {},
   "outputs": [
    {
     "data": {
      "image/png": "[encoded data removed]",
      "text/plain": [
       "<Figure size 600x400 with 1 Axes>"
      ]
     },
     "metadata": {},
     "output_type": "display_data"
    }
   ],
   "source": [
    "# This bord will stand for 'registered' ride\n",
    "plt.figure(figsize=(6,4))\n",
    "plt.scatter(ola_re['registered'], ola_re['datetime'], c='black', marker='*')\n",
    "plt.title('REGISTERED_RIDE' ,c='r')\n",
    "plt.xlabel('Number_of_times'  , c='r')\n",
    "plt.ylabel('Number_of_rides' , c='r')\n",
    "plt.tight_layout()\n",
    "plt.show()"
   ]
  },
  {
   "cell_type": "code",
   "execution_count": 51,
   "id": "85d08757-dd81-4b54-a5a0-57ac149b4a80",
   "metadata": {},
   "outputs": [
    {
     "data": {
      "text/html": [
       "<div>\n",
       "<style scoped>\n",
       "    .dataframe tbody tr th:only-of-type {\n",
       "        vertical-align: middle;\n",
       "    }\n",
       "\n",
       "    .dataframe tbody tr th {\n",
       "        vertical-align: top;\n",
       "    }\n",
       "\n",
       "    .dataframe thead th {\n",
       "        text-align: right;\n",
       "    }\n",
       "</style>\n",
       "<table border=\"1\" class=\"dataframe\">\n",
       "  <thead>\n",
       "    <tr style=\"text-align: right;\">\n",
       "      <th></th>\n",
       "      <th>count</th>\n",
       "      <th>datetime</th>\n",
       "    </tr>\n",
       "  </thead>\n",
       "  <tbody>\n",
       "    <tr>\n",
       "      <th>0</th>\n",
       "      <td>0</td>\n",
       "      <td>2</td>\n",
       "    </tr>\n",
       "    <tr>\n",
       "      <th>1</th>\n",
       "      <td>1</td>\n",
       "      <td>1</td>\n",
       "    </tr>\n",
       "    <tr>\n",
       "      <th>2</th>\n",
       "      <td>2</td>\n",
       "      <td>5</td>\n",
       "    </tr>\n",
       "    <tr>\n",
       "      <th>3</th>\n",
       "      <td>3</td>\n",
       "      <td>1</td>\n",
       "    </tr>\n",
       "    <tr>\n",
       "      <th>4</th>\n",
       "      <td>4</td>\n",
       "      <td>6</td>\n",
       "    </tr>\n",
       "    <tr>\n",
       "      <th>...</th>\n",
       "      <td>...</td>\n",
       "      <td>...</td>\n",
       "    </tr>\n",
       "    <tr>\n",
       "      <th>244</th>\n",
       "      <td>244</td>\n",
       "      <td>7</td>\n",
       "    </tr>\n",
       "    <tr>\n",
       "      <th>245</th>\n",
       "      <td>245</td>\n",
       "      <td>5</td>\n",
       "    </tr>\n",
       "    <tr>\n",
       "      <th>246</th>\n",
       "      <td>246</td>\n",
       "      <td>2</td>\n",
       "    </tr>\n",
       "    <tr>\n",
       "      <th>247</th>\n",
       "      <td>247</td>\n",
       "      <td>1</td>\n",
       "    </tr>\n",
       "    <tr>\n",
       "      <th>248</th>\n",
       "      <td>248</td>\n",
       "      <td>1</td>\n",
       "    </tr>\n",
       "  </tbody>\n",
       "</table>\n",
       "<p>249 rows × 2 columns</p>\n",
       "</div>"
      ],
      "text/plain": [
       "     count  datetime\n",
       "0        0         2\n",
       "1        1         1\n",
       "2        2         5\n",
       "3        3         1\n",
       "4        4         6\n",
       "..     ...       ...\n",
       "244    244         7\n",
       "245    245         5\n",
       "246    246         2\n",
       "247    247         1\n",
       "248    248         1\n",
       "\n",
       "[249 rows x 2 columns]"
      ]
     },
     "execution_count": 51,
     "metadata": {},
     "output_type": "execute_result"
    }
   ],
   "source": [
    "#ola_co=\n",
    "ola.groupby('count')['datetime'].count().reset_index()"
   ]
  },
  {
   "cell_type": "code",
   "execution_count": 50,
   "id": "691ee575-f873-4e31-881b-3b664b235147",
   "metadata": {},
   "outputs": [
    {
     "data": {
      "image/png": "[encoded data removed]",
      "text/plain": [
       "<Figure size 600x400 with 1 Axes>"
      ]
     },
     "metadata": {},
     "output_type": "display_data"
    }
   ],
   "source": [
    "# This bord will stand for 'count_per_hours' ride\n",
    "plt.figure(figsize=(6,4))\n",
    "plt.scatter(ola_co['count'], ola_co['datetime'], c='black', marker='*')\n",
    "plt.title('Count_Rides' ,c='r')\n",
    "plt.xlabel('hours'  , c='r')\n",
    "plt.ylabel('Number_of_rides' , c='r')\n",
    "plt.tight_layout()\n",
    "plt.show()"
   ]
  },
  {
   "cell_type": "code",
   "execution_count": null,
   "id": "96a4829e-8c73-4d1f-9a9e-201bb42d0377",
   "metadata": {},
   "outputs": [],
   "source": [
    "#I'm excited to share this as part of my learning journey\n",
    "in data analytics and look forward to more real-world datasets\n",
    "and storytelling through data, in shaa Allah."
   ]
  }
 ],
 "metadata": {
  "kernelspec": {
   "display_name": "Python 3 (ipykernel)",
   "language": "python",
   "name": "python3"
  },
  "language_info": {
   "codemirror_mode": {
    "name": "ipython",
    "version": 3
   },
   "file_extension": ".py",
   "mimetype": "text/x-python",
   "name": "python",
   "nbconvert_exporter": "python",
   "pygments_lexer": "ipython3",
   "version": "3.13.1"
  }
 },
 "nbformat": 4,
 "nbformat_minor": 5
}
